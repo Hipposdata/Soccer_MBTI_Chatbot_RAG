{
 "cells": [
  {
   "cell_type": "markdown",
   "id": "f473601b-f05f-48c6-9558-38ea144779d8",
   "metadata": {},
   "source": [
    "## Loading"
   ]
  },
  {
   "cell_type": "code",
   "execution_count": 34,
   "id": "8b2cdaca-43ac-4fc5-9f53-bff2737f0a65",
   "metadata": {},
   "outputs": [],
   "source": [
    "from langchain_community.document_loaders import JSONLoader"
   ]
  },
  {
   "cell_type": "code",
   "execution_count": 35,
   "id": "41dbedf2-e220-4678-b9e0-829b98bc19d7",
   "metadata": {},
   "outputs": [],
   "source": [
    "# define the metadata extraction function.\n",
    "def metadata_func(record: dict, metadata: dict) -> dict:\n",
    "    metadata[\"source\"] = record[\"metadata\"][\"source\"]\n",
    "    metadata[\"title\"] = record[\"metadata\"][\"title\"]\n",
    "    return metadata\n",
    "\n",
    "loader = JSONLoader(\n",
    "    file_path=\"./news-sample1.json\",\n",
    "    jq_schema=\".[]\",\n",
    "    content_key=\"page_content\",\n",
    "    metadata_func=metadata_func\n",
    ")"
   ]
  },
  {
   "cell_type": "code",
   "execution_count": 36,
   "id": "670090d4-59ea-4fd1-b046-2d4011a21d6b",
   "metadata": {},
   "outputs": [],
   "source": [
    "data = loader.load()"
   ]
  },
  {
   "cell_type": "markdown",
   "id": "1d7457a9-488b-4a5f-b907-91f9c05e461c",
   "metadata": {},
   "source": [
    "## Splitting"
   ]
  },
  {
   "cell_type": "code",
   "execution_count": 37,
   "id": "74db7d8e-ca96-4408-a66a-917d49fa2116",
   "metadata": {},
   "outputs": [],
   "source": [
    "from langchain_text_splitters import RecursiveCharacterTextSplitter"
   ]
  },
  {
   "cell_type": "code",
   "execution_count": 38,
   "id": "1569e053-ebe6-4f01-a403-2b0a38dc69f6",
   "metadata": {},
   "outputs": [],
   "source": [
    "text_splitter = RecursiveCharacterTextSplitter(\n",
    "    chunk_size=3500,\n",
    "    chunk_overlap=0\n",
    ")"
   ]
  },
  {
   "cell_type": "code",
   "execution_count": 39,
   "id": "941ff769-56c8-4dd5-843d-6dd662fd13a7",
   "metadata": {},
   "outputs": [],
   "source": [
    "docs = text_splitter.split_documents(data)"
   ]
  },
  {
   "cell_type": "code",
   "execution_count": 40,
   "id": "7cc853a8",
   "metadata": {},
   "outputs": [
    {
     "data": {
      "text/plain": [
       "[Document(metadata={'source': '핵심형', 'seq_num': 1, 'title': 'K'}, page_content='오랜시간, 주전, 필수적인, 핵심선수, 주축 선수, 에이스, 중심적인, 신뢰받는, 핵심 전력, 전술의 중심, 주전급, 책임감 있는, 핵심 선수, 불가결한, 리더형, 전략적 중심, 결정적인, 경기 지배력 있는, 압도적인, 팀의 중심, 경기 운영자, 영향력 있는, 반드시 필요한, 주요, 핵심키'),\n",
       " Document(metadata={'source': '조커형', 'seq_num': 2, 'title': 'J'}, page_content='교체선수, 적은시간, 조커, 슈퍼 서브, 임팩트 플레이어, 교체 카드, 후반전 강자, 분위기 반전, 한 방이 있는 선수, 기습적인, 결정적 순간의 카드, 경기 흐름 전환자, 단시간 해결사, 비장의 무기, 찬스를 만드는 선수, 후반 교체 요원, 짧고 강렬한, 유연한 전술 카드, 단기 해결사, 급격한, 영향력, 변칙적인, 정도환, 마무리, 피날래'),\n",
       " Document(metadata={'source': '소극형', 'seq_num': 3, 'title': 'I'}, page_content='소극적, 신중한, 조용한 플레이, 클린 플레이, 조심스러운, 소극적 수비, 자제력, 안전한 플레이, 침착한, 균형 잡힌 플레이, 규칙적인 플레이, 정교한 수비, 계산적인 움직임, 파울 회피, 안정적인 경기 운영, 예측 플레이, 영리한 수비, 인터셉트 중심, 과감함 부족, 점잖은 플레이, 수비 거리 유지, 중립적인 스타일, 패스 위주, 신사적인, 합리적인 경기 운영, 안정성 중시, 세련된 플레이, 파울 최소화, 이성적 판단, 규칙 준수, 감정 절제, 낮은 위험 감수, 무리하지 않는 플레이, 파울 유도, 위치 선정 중시, 피지컬 회피, 공을 지키는 플레이, 상대 자극 없음, 방어적인 경기 운영, 실리적인 스타일, 완급 조절, 필요 이상의 태클 회피, 패널티 박스 내 태클 자제, 두려움 없는 경기 부족, 침착한 빌드업, 냉철한 플레이, 터프하지 않은 스타일, 낮은 옐로카드 비율, 신사적인 태도, 전술적인 수비, 경기 내 흥분 적음, 체력 안배 스타일, 비접촉형 수비, 포지셔닝 우선'),\n",
       " Document(metadata={'source': '적극형', 'seq_num': 4, 'title': 'E'}, page_content='공격적, 거친 플레이, 피지컬, 태클, 몸싸움, 압박, 강한 수비, 저돌적, 과감한, 거침없는, 끈질긴, 적극 수비, 강력한 태클, 싸움닭, 카리스마, 하드 태클, 무리 한 태클, 거친 몸싸움, 돌격형, 강한 압박, 거친 수비, 끊임없는 도전, 퇴장 위 험, 터프함, 강한 정신력, 위험 감수, 수비적 파울, 강력한 커버, 전방 압박, 피 지컬한 플레이, 하드코어 스타일, 두려움 없는, 무서운 태클러, 직선적 플레이, 필드 위의 전사, 상대 도발, 저항 정신, 고의적 반칙, 열정적, 날카로운 태클, 승부욕 강함, 빈번한 경고, 경고 관리 필요'),\n",
       " Document(metadata={'source': '협동형', 'seq_num': 5, 'title': 'T'}, page_content='헌신, 함께, 연계플레이, 협동적, 팀워크 지향, 집단적, 공동체 중심, 협력적, 팀끼리, 조직적, 유기적인, 패스 중심, 조화로운, 상호작용적, 연계 플레이, 전술적, 팀 중심, 동료 의식, 원활한, 함께하는, 조율 된, 유기적 움직임'),\n",
       " Document(metadata={'source': '단독형', 'seq_num': 6, 'title': 'P'}, page_content='주관적, 개별적, 자기만의, 고유한, 특수한, 개성적, 사유의, 내적,자율적, 독립적, 스스로, 혼자, 드리블, 나대기, 돌파형, 개척자적, 단독적인, 감각적인, 본능적인, 공격 본능, 즉흥적, 창의적인'),\n",
       " Document(metadata={'source': '공격형', 'seq_num': 7, 'title': 'A'}, page_content='공격적, 진격, 기습, 공격수, 침략, 도전, 도전적, 공격적인, 진격하는, 기습적인, 침투적인, 도전적인, 적극적인, 위협적인, 돌파력 있는, 공간을 노리는, 상대를 압박하는, 공세적인, 강하게 밀어붙이는, 기회 창출형, 과감한, 역습 중심의, 슈팅을 즐기는, 득점을 노리는, 거침없는, 저돌적인, 스피디한'),\n",
       " Document(metadata={'source': '수비형', 'seq_num': 8, 'title': 'D'}, page_content='방호적, 보호적, 방어적,막기, 방어적인, 보호적인, 차단하는, 안정적인, 견고한, 신중한, 벽을 쌓는, 수비 중심의, 위험을 막는, 뒷공간을 커버하는, 조심스러운, 전진을 막는, 단 단한, 조직적인, 안전 우선의, 수비적인 역할에 충실한, 상대 움직임을 읽는, 태클을 활용 하는, 클리어링 중심의, 리스크 최소화하는')]"
      ]
     },
     "execution_count": 40,
     "metadata": {},
     "output_type": "execute_result"
    }
   ],
   "source": [
    "docs"
   ]
  },
  {
   "cell_type": "code",
   "execution_count": 41,
   "id": "c0f7e0da-38f7-44ad-aaed-96184c6d7d5c",
   "metadata": {},
   "outputs": [],
   "source": [
    "from langchain_openai import OpenAIEmbeddings"
   ]
  },
  {
   "cell_type": "code",
   "execution_count": 42,
   "id": "4c66c036-c433-4a87-9633-063c3e4e40d7",
   "metadata": {},
   "outputs": [],
   "source": [
    "embedding_model = OpenAIEmbeddings(model=\"text-embedding-3-large\")"
   ]
  },
  {
   "cell_type": "code",
   "execution_count": 43,
   "id": "935890b4-c6a2-417f-bfb6-750b2b2a98fb",
   "metadata": {},
   "outputs": [],
   "source": [
    "# Initialize and persist DB\n",
    "import shutil\n",
    "import os\n",
    "\n",
    "DB_PATH = \"./chroma_db\"\n",
    "\n",
    "# Ensure directory exists before removing\n",
    "if os.path.exists(DB_PATH):\n",
    "    shutil.rmtree(DB_PATH, ignore_errors=True)\n",
    "\n",
    "os.makedirs(DB_PATH, exist_ok=True)\n"
   ]
  },
  {
   "cell_type": "code",
   "execution_count": 44,
   "id": "f2c0f05e-b8d4-4a61-a111-4b324b6d2377",
   "metadata": {},
   "outputs": [],
   "source": [
    "from langchain_chroma import Chroma"
   ]
  },
  {
   "cell_type": "code",
   "execution_count": 45,
   "id": "947d67e9-2a74-4df1-a11c-a4f6fccbe19a",
   "metadata": {},
   "outputs": [
    {
     "name": "stdout",
     "output_type": "stream",
     "text": [
      "CPU times: total: 328 ms\n",
      "Wall time: 1.99 s\n"
     ]
    }
   ],
   "source": [
    "%%time\n",
    "\n",
    "db = Chroma.from_documents(\n",
    "    documents=docs,\n",
    "    embedding=embedding_model,\n",
    "    persist_directory=\"./chroma_db\"\n",
    ")"
   ]
  },
  {
   "cell_type": "code",
   "execution_count": 46,
   "id": "f1efc115-f416-4c42-9da0-03d59c5bdf73",
   "metadata": {},
   "outputs": [
    {
     "name": "stdout",
     "output_type": "stream",
     "text": [
      "MBTI 결과: APJI\n"
     ]
    }
   ],
   "source": [
    "import json\n",
    "from sklearn.feature_extraction.text import TfidfVectorizer\n",
    "from sklearn.metrics.pairwise import cosine_similarity\n",
    "\n",
    "# JSON 파일 로드\n",
    "file_path = \"./news-sample1.json\"\n",
    "with open(file_path, \"r\", encoding=\"utf-8\") as f:\n",
    "    data = json.load(f)\n",
    "\n",
    "# MBTI 비교할 쌍 정의 (A vs D, T vs P, E vs I, K vs J)\n",
    "pairs = [(\"A\", \"D\"), (\"T\", \"P\"), (\"K\", \"J\"), (\"E\", \"I\")]\n",
    "\n",
    "# 쿼리 입력\n",
    "query = \"나는 전방에서 공격적인 포지션을 선호해 또한 여러 사람들과 주고받는 연계플레이를 좋아하고 팀에 헌신적인 스타일이야 비록 후반에 분위기 반전을 위해 교체선수로 많이 뛰긴 하지만 열정적인 스타일로 몸을 사리지 않는 저돌적이고 적극적인 스타일이야\"\n",
    "\n",
    "# 각 title에 해당하는 인덱스 매핑\n",
    "title_to_index = {entry[\"metadata\"][\"title\"]: idx for idx, entry in enumerate(data)}\n",
    "\n",
    "# TF-IDF 벡터화\n",
    "vectorizer = TfidfVectorizer()\n",
    "page_contents = [entry[\"page_content\"] for entry in data] + [query]\n",
    "tfidf_matrix = vectorizer.fit_transform(page_contents)\n",
    "\n",
    "# 쿼리 벡터 가져오기\n",
    "query_vector = tfidf_matrix[-1]  # 마지막 벡터가 query\n",
    "\n",
    "# 비교 결과를 저장할 리스트\n",
    "selected_titles = []\n",
    "\n",
    "# 각 쌍을 비교하여 query와 더 유사한 항목 선택\n",
    "for title1, title2 in pairs:\n",
    "    if title1 not in title_to_index or title2 not in title_to_index:\n",
    "        continue  # 해당 title이 데이터에 없으면 스킵\n",
    "\n",
    "    idx1 = title_to_index[title1]\n",
    "    idx2 = title_to_index[title2]\n",
    "\n",
    "    similarity1 = cosine_similarity(query_vector, tfidf_matrix[idx1])[0][0]\n",
    "    similarity2 = cosine_similarity(query_vector, tfidf_matrix[idx2])[0][0]\n",
    "\n",
    "    # 쿼리와 더 유사도가 높은 문서 선택\n",
    "    chosen_title = title1 if similarity1 > similarity2 else title2\n",
    "\n",
    "    # 선택된 title을 리스트에 저장\n",
    "    selected_titles.append(chosen_title)\n",
    "\n",
    "# 결과 출력 (MBTI 순서대로 조합)\n",
    "mbti_result = \"\".join(selected_titles)\n",
    "print(\"MBTI 결과:\", mbti_result)\n"
   ]
  },
  {
   "cell_type": "code",
   "execution_count": 47,
   "id": "cfb8d858-bc22-4766-8743-22e0baebed94",
   "metadata": {},
   "outputs": [
    {
     "name": "stdout",
     "output_type": "stream",
     "text": [
      "           선수         팀  경기\n",
      "5      크리스 우드  노팅엄 포레스트  31\n",
      "179  킨 루이스-포터     브렌트퍼드  30\n",
      "234    당고 와타라       본머스  30\n"
     ]
    }
   ],
   "source": [
    "import pandas as pd\n",
    "\n",
    "# processed_player_data.csv 파일 불러오기\n",
    "processed_file_path = './player.xlsx'\n",
    "processed_data = pd.read_excel(processed_file_path)\n",
    "\n",
    "\n",
    "# person_mbti와 'MBTI 코드'가 일치하는 선수들 필터링\n",
    "filtered_data = processed_data[processed_data['MBTI 코드'] == mbti_result]\n",
    "\n",
    "# 필터링된 데이터에서 '출전경기' 수가 가장 많은 3명 선수를 도출\n",
    "top_3_players = filtered_data.nlargest(3, '경기')[['선수','팀','경기']]\n",
    "top_3_players_str = top_3_players.to_string(index=False)\n",
    "\n",
    "# 결과 출력\n",
    "print(top_3_players)\n"
   ]
  },
  {
   "cell_type": "code",
   "execution_count": 48,
   "id": "8ac6b4e6-6038-4d2d-a986-037a70fe38c2",
   "metadata": {},
   "outputs": [],
   "source": [
    "from langchain_openai import ChatOpenAI\n",
    "from langchain.prompts import ChatPromptTemplate\n",
    "from langchain_core.messages import SystemMessage, HumanMessage\n",
    "# helper function for displaying markdown\n",
    "from IPython.display import Markdown, display\n",
    "def printmd(string):\n",
    "    display(Markdown(string))"
   ]
  },
  {
   "cell_type": "code",
   "execution_count": 49,
   "id": "a2d93688-c2d4-414c-a834-8f38518094f2",
   "metadata": {},
   "outputs": [],
   "source": [
    "model = ChatOpenAI(\n",
    "    model_name=\"gpt-4o-mini\",\n",
    "    temperature=0\n",
    ")"
   ]
  },
  {
   "cell_type": "code",
   "execution_count": 50,
   "id": "13ab5298",
   "metadata": {},
   "outputs": [],
   "source": [
    "top_3_players_str = top_3_players.to_string(index=False)"
   ]
  },
  {
   "cell_type": "code",
   "execution_count": 51,
   "id": "898a72eb",
   "metadata": {},
   "outputs": [
    {
     "data": {
      "text/plain": [
       "'      선수        팀  경기\\n  크리스 우드 노팅엄 포레스트  31\\n킨 루이스-포터    브렌트퍼드  30\\n  당고 와타라      본머스  30'"
      ]
     },
     "execution_count": 51,
     "metadata": {},
     "output_type": "execute_result"
    }
   ],
   "source": [
    "top_3_players_str"
   ]
  },
  {
   "cell_type": "code",
   "execution_count": 53,
   "id": "abf7e2eb-640f-4cf3-ba0a-741df7385503",
   "metadata": {},
   "outputs": [],
   "source": [
    "chat_template1 = ChatPromptTemplate.from_messages(\n",
    "                [\n",
    "                    SystemMessage(\n",
    "                        content=f\"\"\"당신은 축구 전문가이면서 심리행동전문가야.\n",
    "                        사용자가 너에게 말하는 성향을 바탕으로 우리가 만든 축구 MBTI를 분석하고, 사용자에게 그 결과를 알려줘.\n",
    "                        A(attack) \n",
    "                        D(defence) \n",
    "                        T(team)\n",
    "                        P(personal)\n",
    "                        K(key) \n",
    "                        J(joker)\n",
    "                        E(extroversion)\n",
    "                        I(Introverted)\n",
    "\n",
    "\n",
    "                        이 순서대로 해당되는 영어에 따라 해당되는 4개를 설명해줘\n",
    "                        \n",
    "                        꼭 축구MBTI {mbti_result} 사용자에게 4가지 유형으로 제공해야 하고,  \n",
    "                        정보가 부족해도 일단 사용자가 제공한 데이터로 알려줘!\n",
    "                        결과에 대한 설명을 3줄 이상으로 길고 자세하게 풀어서 설명해줘.\n",
    "                        마지막에는 사용자의 MBTI {mbti_result} 결과와 같은 축구 선수 3명을 추천해줘.\n",
    "\n",
    "                        아래는 2023~2024 시즌 EPL리그에서 뛰었던 비슷한 유형의 선수 데이터야:\n",
    "                        {top_3_players_str}\n",
    "                        밑에 각 선수에 대한 소속팀, 포지션, 플레이스타일, 나이, 국적, 평가 등등 해당 선수에 대한 정보를 매우 구체적으로 알려줘\n",
    "                        <예시>\n",
    "                        ***2023~2024 시즌 EPL리그에서 뛰었던 비슷한 유형의 선수를 추천하겠습니다***\n",
    "                        소속팀:\n",
    "                        나이:\n",
    "                        국적:\n",
    "                        포지션:\n",
    "                        평가:\n",
    "                        \"\"\"\n",
    "                    ),\n",
    "                    HumanMessage(content=query)\n",
    "                ]\n",
    "            )"
   ]
  },
  {
   "cell_type": "code",
   "execution_count": 54,
   "id": "e0c578b5-b3e2-45c1-8c99-113105b62d82",
   "metadata": {},
   "outputs": [],
   "source": [
    "messages1 = chat_template1.format_messages(text=query)"
   ]
  },
  {
   "cell_type": "code",
   "execution_count": 55,
   "id": "1cda761f-8332-4bee-8eee-05cf56139101",
   "metadata": {},
   "outputs": [
    {
     "data": {
      "text/markdown": [
       "당신의 축구 MBTI는 APJI로 분석됩니다. 각 요소를 살펴보면 다음과 같습니다:\n",
       "\n",
       "1. **A (Attack)**: 당신은 전방에서 공격적인 포지션을 선호한다고 하셨습니다. 이는 당신이 공격적인 플레이를 통해 팀의 득점을 이끌어내고 싶어하는 성향을 나타냅니다. 공격적인 플레이는 상대 수비를 압박하고, 기회를 창출하는 데 중요한 역할을 합니다.\n",
       "\n",
       "2. **P (Personal)**: 여러 사람들과의 연계 플레이를 좋아하고 팀에 헌신적인 스타일이라고 하셨습니다. 이는 개인적인 성향이 강하면서도 팀워크를 중시하는 것을 의미합니다. 당신은 팀의 성공을 위해 개인의 기량을 발휘하는 것을 중요하게 생각하며, 동료들과의 협력을 통해 더 나은 결과를 만들어내고자 합니다.\n",
       "\n",
       "3. **J (Joker)**: 후반에 분위기 반전을 위해 교체 선수로 많이 뛰는 스타일은 당신이 상황에 따라 유연하게 대처할 수 있는 능력을 가지고 있음을 나타냅니다. 이는 팀의 전술에 맞춰 적절한 타이밍에 투입되어 경기를 변화시키는 역할을 잘 수행할 수 있다는 것을 의미합니다.\n",
       "\n",
       "4. **I (Introverted)**: 저돌적이고 적극적인 스타일이지만, 팀 내에서의 역할을 중시하는 점에서 내향적인 성향이 엿보입니다. 이는 당신이 팀의 일원으로서 조화를 이루는 것을 중요하게 생각하며, 개인적인 성향이 팀의 목표와 잘 맞아떨어진다는 것을 보여줍니다.\n",
       "\n",
       "이러한 성향을 바탕으로, 당신은 팀의 공격을 이끌며, 동료들과의 협력을 통해 경기를 주도하는 역할을 잘 수행할 수 있는 선수입니다. 당신의 MBTI APJI 결과와 비슷한 유형의 선수로는 다음과 같은 선수들을 추천합니다:\n",
       "\n",
       "***2023~2024 시즌 EPL리그에서 뛰었던 비슷한 유형의 선수를 추천하겠습니다***\n",
       "\n",
       "1. **크리스 우드**\n",
       "   - 소속팀: 노팅엄 포레스트\n",
       "   - 나이: 31세\n",
       "   - 국적: 뉴질랜드\n",
       "   - 포지션: 공격수\n",
       "   - 평가: 강력한 피지컬과 공중볼 장악 능력을 바탕으로 팀의 공격을 이끌며, 연계 플레이에서도 중요한 역할을 수행합니다.\n",
       "\n",
       "2. **킨 루이스-포터**\n",
       "   - 소속팀: 브렌트퍼드\n",
       "   - 나이: 30세\n",
       "   - 국적: 잉글랜드\n",
       "   - 포지션: 공격수\n",
       "   - 평가: 빠른 스피드와 기술적인 드리블로 상대 수비를 흔들며, 팀의 공격 전개에 기여하는 스타일입니다.\n",
       "\n",
       "3. **당고 와타라**\n",
       "   - 소속팀: 본머스\n",
       "   - 나이: 22세\n",
       "   - 국적: 부르키나파소\n",
       "   - 포지션: 공격수\n",
       "   - 평가: 젊은 나이에 비해 뛰어난 기량을 보유하고 있으며, 팀의 공격을 이끌며 다양한 포지션에서 활약할 수 있는 유연성을 가지고 있습니다.\n",
       "\n",
       "이 선수들은 당신의 성향과 비슷한 스타일로, 팀의 공격을 이끌며 연계 플레이에 능한 선수들입니다."
      ],
      "text/plain": [
       "<IPython.core.display.Markdown object>"
      ]
     },
     "metadata": {},
     "output_type": "display_data"
    }
   ],
   "source": [
    "out1 = model.invoke(messages1)\n",
    "printmd(out1.content)   "
   ]
  }
 ],
 "metadata": {
  "kernelspec": {
   "display_name": "Python 3 (ipykernel)",
   "language": "python",
   "name": "python3"
  },
  "language_info": {
   "codemirror_mode": {
    "name": "ipython",
    "version": 3
   },
   "file_extension": ".py",
   "mimetype": "text/x-python",
   "name": "python",
   "nbconvert_exporter": "python",
   "pygments_lexer": "ipython3",
   "version": "3.12.9"
  }
 },
 "nbformat": 4,
 "nbformat_minor": 5
}
